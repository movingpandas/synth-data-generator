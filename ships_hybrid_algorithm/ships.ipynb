{
 "cells": [
  {
   "cell_type": "markdown",
   "metadata": {},
   "source": [
    "# Simulation of Vessel Trajectories & Anomalies\n",
    "\n",
    "Use the config file to adjust the number of vessels, obstacles, speed limits, ..."
   ]
  },
  {
   "cell_type": "code",
   "execution_count": null,
   "metadata": {},
   "outputs": [],
   "source": [
    "import logging\n",
    "from datetime import datetime, timedelta\n",
    "import json\n",
    "\n",
    "from model import ShipModel\n",
    "from agents.ship import Ship\n",
    "\n",
    "logging.basicConfig(\n",
    "    filename=\"notebook_logs.log\",\n",
    "    filemode=\"w\",  # Overwrites on each run; use \"a\" to append\n",
    "    level=logging.INFO,\n",
    "    format=\"%(asctime)s - %(levelname)s - %(message)s\"\n",
    ")\n",
    "\n",
    "config_file=\"config/config.json\"\n",
    "with open(config_file) as f:\n",
    "    config = json.load(f)\n",
    "\n",
    "steps = config[\"simulation_steps\"]\n",
    "    \n",
    "model = ShipModel(\n",
    "        width=config[\"width\"],\n",
    "        height=config[\"height\"],\n",
    "        num_ships=config[\"num_ships\"],\n",
    "        max_speed_range=config[\"max_speed_range\"],\n",
    "        ports=config[\"ports\"],\n",
    "        speed_limit_zones=config.get(\"speed_limit_zones\", []),\n",
    "        obstacles=config[\"obstacles\"],\n",
    "        dwa_config=config[\"dwa_config\"],\n",
    "        resolution=config[\"resolution\"],\n",
    "        obstacle_threshold=config[\"obstacle_threshold\"],\n",
    "        lookahead=config[\"lookahead\"]\n",
    "    )\n",
    "\n",
    "for type, agents in model.agents_by_type.items():\n",
    "    print(f'{type}: {len(agents)}')\n",
    "\n",
    "for ship in model.agents.select(agent_type=Ship):\n",
    "    print(f\"Ship {ship.unique_id} has a maximum speed of {ship.original_max_speed}.\")"
   ]
  },
  {
   "cell_type": "markdown",
   "metadata": {},
   "source": [
    "## Trajectory Simulation"
   ]
  },
  {
   "cell_type": "code",
   "execution_count": null,
   "metadata": {},
   "outputs": [],
   "source": [
    "t0 = datetime.now()\n",
    "print(f\"{datetime.now()} Starting ...\")\n",
    "for t in range(steps):\n",
    "    stride = 50\n",
    "    if t%stride == 0:\n",
    "        print(f\"Steps {t} - {t+stride-1}...\")\n",
    "    model.step()\n",
    "t1 = datetime.now()\n",
    "print(f\"{datetime.now()} Finished in {t1-t0}.\")"
   ]
  },
  {
   "cell_type": "code",
   "execution_count": null,
   "metadata": {},
   "outputs": [],
   "source": [
    "agent_df = model.datacollector.get_agent_vars_dataframe().dropna()\n",
    "df = agent_df.reset_index()\n",
    "df"
   ]
  },
  {
   "cell_type": "code",
   "execution_count": null,
   "metadata": {},
   "outputs": [],
   "source": [
    "from visualization import plot_simulation\n",
    "\n",
    "# Run visualization\n",
    "plot_simulation(df, config)"
   ]
  },
  {
   "cell_type": "code",
   "execution_count": null,
   "metadata": {},
   "outputs": [],
   "source": [
    "import movingpandas as mpd\n",
    "\n",
    "start_datetime = datetime.now()\n",
    "df = df.drop('AStarPath', axis=1)\n",
    "df[\"t\"] = df[\"Step\"].apply(lambda step: start_datetime + timedelta(seconds=step))\n",
    "tc = mpd.TrajectoryCollection(df, traj_id_col='AgentID', t='t', x='x', y='y', crs=31287)"
   ]
  },
  {
   "cell_type": "code",
   "execution_count": null,
   "metadata": {},
   "outputs": [],
   "source": [
    "#tc = mpd.TrajectoryCollection(df, traj_id_col='AgentID', t='t', x='x', y='y', crs=31287)\n",
    "tc"
   ]
  },
  {
   "cell_type": "code",
   "execution_count": null,
   "metadata": {},
   "outputs": [],
   "source": [
    "import matplotlib.pyplot as plt\n",
    "from shapely.geometry import Polygon\n",
    "\n",
    "fig, ax = plt.subplots(figsize=(7,7))\n",
    "\n",
    "x_coords, y_coords = zip(*config[\"ports\"])\n",
    "ax.scatter(x_coords, y_coords, color='blue', label='Ports', zorder=5)\n",
    "\n",
    "for island in config[\"obstacles\"]:\n",
    "    island_shape = Polygon(island)\n",
    "    x, y = island_shape.exterior.xy\n",
    "    ax.fill(x, y, color=\"brown\", alpha=0.6, label=\"Island\" if 'Island' not in plt.gca().get_legend_handles_labels()[1] else \"\")\n",
    "\n",
    "tc.plot(ax=ax, label='Ship trajectories', column='speed', legend=True)\n",
    "ax.grid(True)\n",
    "\n",
    "# Labels and legend\n",
    "ax.legend()\n",
    "ax.set_title(\"Ports and ships\")\n",
    "\n",
    "plt.show()"
   ]
  },
  {
   "cell_type": "code",
   "execution_count": null,
   "metadata": {},
   "outputs": [],
   "source": [
    "try:\n",
    "    tc.trajectories[0].hvplot()\n",
    "except:\n",
    "    pass"
   ]
  },
  {
   "cell_type": "code",
   "execution_count": null,
   "metadata": {},
   "outputs": [],
   "source": [
    "import os\n",
    "\n",
    "tc.add_speed(overwrite=True, n_threads=os.cpu_count())\n",
    "tc.trajectories[0].df#.hvplot(c='speed')"
   ]
  },
  {
   "cell_type": "code",
   "execution_count": null,
   "metadata": {},
   "outputs": [],
   "source": [
    "sim_result = tc.to_point_gdf()\n",
    "sim_result['x'] = sim_result.geometry.x\n",
    "sim_result['y'] = sim_result.geometry.y\n",
    "timestamp = datetime.now().strftime(\"%Y%m%d_%H%M%S\")\n",
    "sim_out_file_name = f'sim_{timestamp}.csv'\n",
    "sim_result.to_csv(sim_out_file_name)\n",
    "print(f'Saved simulation results to {sim_out_file_name}')\n",
    "sim_result#[sim_result['speed'] > 0.6]"
   ]
  },
  {
   "cell_type": "markdown",
   "metadata": {},
   "source": [
    "## Anomaly Simulation"
   ]
  },
  {
   "cell_type": "code",
   "execution_count": null,
   "metadata": {},
   "outputs": [],
   "source": [
    "import numpy as np\n",
    "import pandas as pd\n",
    "import movingpandas as mpd\n",
    "from datetime import datetime, timedelta"
   ]
  },
  {
   "cell_type": "code",
   "execution_count": null,
   "metadata": {},
   "outputs": [],
   "source": [
    "sim_out_file_name = 'sim_20250517_164810.csv'\n",
    "PERCENTAGE_OF_ANOMALIES = 0.03"
   ]
  },
  {
   "cell_type": "code",
   "execution_count": null,
   "metadata": {},
   "outputs": [],
   "source": [
    "sims = pd.read_csv(sim_out_file_name)\n",
    "sims"
   ]
  },
  {
   "cell_type": "code",
   "execution_count": null,
   "metadata": {},
   "outputs": [],
   "source": [
    "#sims = sims[sims.AgentID<29].copy()\n",
    "sims['is_anomaly'] = False\n",
    "sims['anomaly_type'] = 'n/a'\n"
   ]
  },
  {
   "cell_type": "code",
   "execution_count": null,
   "metadata": {},
   "outputs": [],
   "source": [
    "tc = mpd.TrajectoryCollection(sims, t='t', traj_id_col='AgentID', x='x', y='y', crs=31287)\n",
    "tc"
   ]
  },
  {
   "cell_type": "code",
   "execution_count": null,
   "metadata": {},
   "outputs": [],
   "source": [
    "# Remove stopped segments (with speed < 0.0001)\n",
    "tc = mpd.SpeedSplitter(tc).split(speed=0.0001, duration=timedelta(seconds=5))\n",
    "tc"
   ]
  },
  {
   "cell_type": "markdown",
   "metadata": {},
   "source": [
    "### Speed\n",
    "\n",
    "Change the timestamps to make a subsection of the trajectory faster"
   ]
  },
  {
   "cell_type": "code",
   "execution_count": null,
   "metadata": {},
   "outputs": [],
   "source": [
    "unique_ids = sims.AgentID.unique()\n",
    "unique_ids"
   ]
  },
  {
   "cell_type": "code",
   "execution_count": null,
   "metadata": {},
   "outputs": [],
   "source": [
    "sample_ids_pd = pd.Series(unique_ids).sample(frac=PERCENTAGE_OF_ANOMALIES).tolist()\n",
    "print(\"Subset we'll insert anomalies in: \", sample_ids_pd)"
   ]
  },
  {
   "cell_type": "code",
   "execution_count": null,
   "metadata": {},
   "outputs": [],
   "source": [
    "def inject_speed_anomaly(traj, duration_pct=(0.1,0.2), speedup_pct=(1.5,2.5)):\n",
    "    df = traj.df.copy()\n",
    "    df.reset_index(inplace=True)\n",
    "    df[\"t_diff\"] = df['t'].diff()\n",
    "    # Choose within middle range\n",
    "    total_steps = len(df)\n",
    "    anomaly_start_idx = np.random.randint(0.1 * total_steps, 0.8 * total_steps)  \n",
    "    duration_pct = duration_pct[0] + (np.random.random() * (duration_pct[1]-duration_pct[0]))\n",
    "    anomaly_duration = int(duration_pct * total_steps)  \n",
    "    # Insert new values\n",
    "    speedup_pct = speedup_pct[0] + (np.random.random() * (speedup_pct[1]-speedup_pct[0]))\n",
    "    new_vals = df.iloc[anomaly_start_idx : anomaly_start_idx + anomaly_duration].t_diff / speedup_pct\n",
    "    df.loc[anomaly_start_idx : anomaly_start_idx + anomaly_duration -1, \"t_diff\"] = new_vals\n",
    "    # Flag anomalies\n",
    "    df.loc[anomaly_start_idx : anomaly_start_idx + anomaly_duration -1, \"is_anomaly\"] = True\n",
    "    df.loc[anomaly_start_idx : anomaly_start_idx + anomaly_duration -1, \"anomaly_type\"] = 'speed'\n",
    "\n",
    "    # Correct the timestamp update logic\n",
    "    df[\"t\"] = df[\"t\"].iloc[0] + df[\"t_diff\"].fillna(pd.Timedelta(seconds=0)).cumsum()\n",
    "    return mpd.Trajectory(df,t='t',traj_id=traj.id)"
   ]
  },
  {
   "cell_type": "code",
   "execution_count": null,
   "metadata": {},
   "outputs": [],
   "source": [
    "for i, traj in enumerate(tc.trajectories):\n",
    "    if i in sample_ids_pd: \n",
    "        traj = inject_speed_anomaly(traj)\n",
    "        tc.trajectories[i] = traj\n",
    "    \n",
    "tc.add_speed(overwrite=True)\n",
    "tc.plot(column='speed', legend=True)"
   ]
  },
  {
   "cell_type": "code",
   "execution_count": null,
   "metadata": {},
   "outputs": [],
   "source": [
    "ax = tc.plot(column='is_anomaly', cmap='Accent')"
   ]
  },
  {
   "cell_type": "code",
   "execution_count": null,
   "metadata": {},
   "outputs": [],
   "source": [
    "try:\n",
    "    tc.trajectories[0].hvplot(c='speed')\n",
    "except:\n",
    "    pass"
   ]
  },
  {
   "cell_type": "code",
   "execution_count": null,
   "metadata": {},
   "outputs": [],
   "source": [
    "sim_result = tc.to_point_gdf()\n",
    "sim_result['x'] = sim_result.geometry.x\n",
    "sim_result['y'] = sim_result.geometry.y\n",
    "timestamp = datetime.now().strftime(\"%Y%m%d_%H%M%S\")\n",
    "sim_out_file_name = f'anomalies_speed_{timestamp}.csv'\n",
    "sim_result.to_csv(sim_out_file_name)\n",
    "print(f'Saved simulated speed anomalies to {sim_out_file_name}')"
   ]
  },
  {
   "cell_type": "markdown",
   "metadata": {},
   "source": [
    "### Location\n",
    "\n",
    "#### Generate trajectories that pass through obstacles\n",
    "\n",
    "Note that is not guaranteed that each resulting trajectory will pass through an obtacle! Ships simply ignore the obstacles."
   ]
  },
  {
   "cell_type": "code",
   "execution_count": null,
   "metadata": {},
   "outputs": [],
   "source": [
    "import logging\n",
    "from datetime import datetime, timedelta\n",
    "import json\n",
    "\n",
    "from model import ShipModel\n",
    "from agents.ship import Ship\n",
    "\n",
    "logging.basicConfig(\n",
    "    filename=\"notebook_logs.log\",\n",
    "    filemode=\"w\",  # Overwrites on each run; use \"a\" to append\n",
    "    level=logging.INFO,\n",
    "    format=\"%(asctime)s - %(levelname)s - %(message)s\"\n",
    ")\n",
    "\n",
    "config_file=\"config/config.json\"\n",
    "with open(config_file) as f:\n",
    "    config = json.load(f)\n",
    "\n",
    "steps = config[\"simulation_steps\"]\n",
    "    \n",
    "model = ShipModel(\n",
    "        width=config[\"width\"],\n",
    "        height=config[\"height\"],\n",
    "        num_ships=int(config[\"num_ships\"]*2*PERCENTAGE_OF_ANOMALIES), # doubling the number, assuming that 50% will violate obstacles\n",
    "        max_speed_range=config[\"max_speed_range\"],\n",
    "        ports=config[\"ports\"],\n",
    "        speed_limit_zones=config.get(\"speed_limit_zones\", []),\n",
    "        obstacles=[config[\"obstacles\"][0]], # Here we only select the first obstacle that describes the main land mass\n",
    "        dwa_config=config[\"dwa_config\"],\n",
    "        resolution=config[\"resolution\"],\n",
    "        obstacle_threshold=config[\"obstacle_threshold\"],\n",
    "        lookahead=config[\"lookahead\"]\n",
    "    )"
   ]
  },
  {
   "cell_type": "code",
   "execution_count": null,
   "metadata": {},
   "outputs": [],
   "source": [
    "print(f\"{datetime.now()} Starting ...\")\n",
    "for t in range(steps):\n",
    "    stride = 50\n",
    "    if t%stride == 0:\n",
    "        print(f\"Steps {t} - {t+stride-1}...\")\n",
    "    model.step()\n",
    "print(f\"{datetime.now()} Finished.\")"
   ]
  },
  {
   "cell_type": "code",
   "execution_count": null,
   "metadata": {},
   "outputs": [],
   "source": [
    "agent_df = model.datacollector.get_agent_vars_dataframe().dropna()\n",
    "df = agent_df.reset_index()\n",
    "df"
   ]
  },
  {
   "cell_type": "code",
   "execution_count": null,
   "metadata": {},
   "outputs": [],
   "source": [
    "from visualization import plot_simulation\n",
    "plot_simulation(df, config)"
   ]
  },
  {
   "cell_type": "code",
   "execution_count": null,
   "metadata": {},
   "outputs": [],
   "source": [
    "import movingpandas as mpd\n",
    "\n",
    "start_datetime = datetime.now()\n",
    "df = df.drop('AStarPath', axis=1)\n",
    "df[\"t\"] = df[\"Step\"].apply(lambda step: start_datetime + timedelta(seconds=step))\n",
    "tc = mpd.TrajectoryCollection(df, traj_id_col='AgentID', t='t', x='x', y='y', crs=31287)"
   ]
  },
  {
   "cell_type": "code",
   "execution_count": null,
   "metadata": {},
   "outputs": [],
   "source": [
    "tc.add_speed(overwrite=True)\n",
    "tc.trajectories[0].df"
   ]
  },
  {
   "cell_type": "code",
   "execution_count": null,
   "metadata": {},
   "outputs": [],
   "source": [
    "sim_result = tc.to_point_gdf()\n",
    "sim_result['x'] = sim_result.geometry.x\n",
    "sim_result['y'] = sim_result.geometry.y\n",
    "timestamp = datetime.now().strftime(\"%Y%m%d_%H%M%S\")\n",
    "sim_out_file_name = f'sim_no-obstacles_{timestamp}.csv'\n",
    "sim_result.to_csv(sim_out_file_name)\n",
    "print(f'Saved simulation results to {sim_out_file_name}')"
   ]
  },
  {
   "cell_type": "markdown",
   "metadata": {},
   "source": [
    "#### Flag anomalies"
   ]
  },
  {
   "cell_type": "code",
   "execution_count": null,
   "metadata": {},
   "outputs": [],
   "source": [
    "sims = pd.read_csv(sim_out_file_name)\n",
    "sims"
   ]
  },
  {
   "cell_type": "code",
   "execution_count": null,
   "metadata": {},
   "outputs": [],
   "source": [
    "#sims = sims[sims.AgentID<22].copy()\n",
    "sims['is_anomaly'] = False\n",
    "sims['anomaly_type'] = 'n/a'\n",
    "tc = mpd.TrajectoryCollection(sims, t='t', traj_id_col='AgentID', x='x', y='y', crs=31287)\n",
    "tc"
   ]
  },
  {
   "cell_type": "code",
   "execution_count": null,
   "metadata": {},
   "outputs": [],
   "source": [
    "tc.plot()"
   ]
  },
  {
   "cell_type": "code",
   "execution_count": null,
   "metadata": {},
   "outputs": [],
   "source": [
    "from shapely.geometry import Polygon\n",
    "from geopandas import GeoSeries\n",
    "\n",
    "def inject_location_anomaly(traj, polygon):\n",
    "    df = traj.df.copy()\n",
    "    intersecting = df.intersects(polygon)\n",
    "    df.loc[intersecting, 'is_anomaly'] = True\n",
    "    df.loc[intersecting, 'anomaly_type'] = 'location'\n",
    "    return mpd.Trajectory(df,t='t',traj_id=traj.id)"
   ]
  },
  {
   "cell_type": "code",
   "execution_count": null,
   "metadata": {},
   "outputs": [],
   "source": [
    "\n",
    "obstacles=config[\"obstacles\"]\n",
    "polygons=[]\n",
    "\n",
    "for obstacle in obstacles:\n",
    "    polygon = Polygon(obstacle)\n",
    "    polygons.append(polygon)\n",
    "    for i, traj in enumerate(tc.trajectories):\n",
    "        traj = inject_location_anomaly(traj, polygon)\n",
    "        tc.trajectories[i] = traj\n",
    "    "
   ]
  },
  {
   "cell_type": "code",
   "execution_count": null,
   "metadata": {},
   "outputs": [],
   "source": [
    "ax = tc.plot(column='is_anomaly', cmap='Accent')\n",
    "GeoSeries(polygons).plot(ax=ax, color=\"lightgray\")"
   ]
  },
  {
   "cell_type": "code",
   "execution_count": null,
   "metadata": {},
   "outputs": [],
   "source": [
    "sim_result = tc.to_point_gdf()\n",
    "sim_result['x'] = sim_result.geometry.x\n",
    "sim_result['y'] = sim_result.geometry.y\n",
    "timestamp = datetime.now().strftime(\"%Y%m%d_%H%M%S\")\n",
    "sim_out_file_name = f'anomalies_loc_{timestamp}.csv'\n",
    "sim_result.to_csv(sim_out_file_name)\n",
    "print(f'Saved simulated location anomalies to {sim_out_file_name}')"
   ]
  },
  {
   "cell_type": "markdown",
   "metadata": {},
   "source": [
    "### Direction\n",
    "\n",
    "TODO"
   ]
  },
  {
   "cell_type": "markdown",
   "metadata": {},
   "source": [
    "## Merge files"
   ]
  },
  {
   "cell_type": "markdown",
   "metadata": {},
   "source": []
  },
  {
   "cell_type": "code",
   "execution_count": null,
   "metadata": {},
   "outputs": [],
   "source": [
    "df1 = pd.read_csv(\"anomalies_speed_20250517_172830.csv\")\n",
    "df2 = pd.read_csv(\"anomalies_loc_20250517_184842.csv\")\n",
    "out = pd.concat([df1,df2])[['t','AgentID','speed','is_anomaly','anomaly_type','x','y']]\n",
    "out.to_csv(\"synthetic_vessel_tracks_with_anomalies_20250517.csv\", index=False)"
   ]
  },
  {
   "cell_type": "code",
   "execution_count": null,
   "metadata": {},
   "outputs": [],
   "source": [
    "tmp = pd.read_csv(\"synthetic_vessel_tracks_with_anomalies_20250517.csv\")\n",
    "tmp"
   ]
  },
  {
   "cell_type": "code",
   "execution_count": null,
   "metadata": {},
   "outputs": [],
   "source": [
    "tmp[tmp.anomaly_type==\"location\"]"
   ]
  },
  {
   "cell_type": "code",
   "execution_count": null,
   "metadata": {},
   "outputs": [],
   "source": [
    "tmp[tmp.anomaly_type==\"location\"].AgentID.unique()"
   ]
  },
  {
   "cell_type": "code",
   "execution_count": null,
   "metadata": {},
   "outputs": [],
   "source": []
  }
 ],
 "metadata": {
  "kernelspec": {
   "display_name": "mesa",
   "language": "python",
   "name": "python3"
  },
  "language_info": {
   "codemirror_mode": {
    "name": "ipython",
    "version": 3
   },
   "file_extension": ".py",
   "mimetype": "text/x-python",
   "name": "python",
   "nbconvert_exporter": "python",
   "pygments_lexer": "ipython3",
   "version": "3.13.1"
  }
 },
 "nbformat": 4,
 "nbformat_minor": 2
}
